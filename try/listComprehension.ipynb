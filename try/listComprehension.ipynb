{
 "cells": [
  {
   "cell_type": "code",
   "execution_count": 4,
   "metadata": {},
   "outputs": [
    {
     "name": "stdout",
     "output_type": "stream",
     "text": [
      "[1, 4, 9, 16, 25]\n"
     ]
    }
   ],
   "source": [
    "def square_root(numbers):\n",
    "    return [num**2 for num in numbers]\n",
    "\n",
    "print(square_root([1, 2, 3, 4, 5]))"
   ]
  },
  {
   "cell_type": "code",
   "execution_count": 9,
   "metadata": {},
   "outputs": [
    {
     "name": "stdout",
     "output_type": "stream",
     "text": [
      "[1, 8, 27, 64, 125]\n"
     ]
    }
   ],
   "source": [
    "def square_advanced(numbers:any, n:int):\n",
    "    f = lambda x: x ** n\n",
    "    return [f(x) if x <= 5 else 0 for x in numbers]\n",
    "\n",
    "print(square_advanced([1, 2, 3, 4, 5], 3))"
   ]
  },
  {
   "cell_type": "code",
   "execution_count": 41,
   "metadata": {},
   "outputs": [
    {
     "name": "stdout",
     "output_type": "stream",
     "text": [
      "[1, 4, 9, 16, 0]\n"
     ]
    }
   ],
   "source": [
    "f = lambda x: x**2\n",
    "\n",
    "def square_advanced_2(numbers:list[int]):\n",
    "    return [f(num) if f(num) < 25 else 0 for num in numbers]\n",
    "\n",
    "print(square_advanced_2([1, 2, 3, 4, 5]))"
   ]
  },
  {
   "cell_type": "code",
   "execution_count": 48,
   "metadata": {},
   "outputs": [
    {
     "name": "stdout",
     "output_type": "stream",
     "text": [
      "0.8333333333333334\n",
      "None\n",
      "None\n"
     ]
    }
   ],
   "source": [
    "def zero_guard(func):\n",
    "    def wrapper(*args, **kwargs):\n",
    "        if (len(args) == 2):\n",
    "            if (args[1] == 0):\n",
    "                return\n",
    "        elif (kwargs['y']) == 0:\n",
    "            return\n",
    "        return func(*args, **kwargs)\n",
    "\n",
    "    return wrapper\n",
    "\n",
    "@zero_guard\n",
    "def divide(x:float, y:float):\n",
    "    return x / y\n",
    "\n",
    "print(divide(10.0, 12.0))\n",
    "print(divide(10.0, 0.0))\n",
    "print(divide(y = 0.0, x = 10.0))\n"
   ]
  },
  {
   "cell_type": "code",
   "execution_count": 41,
   "metadata": {},
   "outputs": [],
   "source": [
    "class Tupel:\n",
    "    def __init__(this, x:any, y:any):\n",
    "        this.x:any = x\n",
    "        this.y:any = y\n",
    "\n",
    "    def __str__(this):\n",
    "        return f'x: {this.x}\\ny: {this.y}'\n",
    "\n",
    "def XOR_INT(x:int, y:int):\n",
    "    x ^= y\n",
    "    y ^= x\n",
    "    x ^= y\n",
    "    return  Tupel(x, y)"
   ]
  },
  {
   "cell_type": "code",
   "execution_count": 42,
   "metadata": {},
   "outputs": [
    {
     "name": "stdout",
     "output_type": "stream",
     "text": [
      "[2, 4, 6]\n"
     ]
    }
   ],
   "source": [
    "# Implementation for value swap in array\n",
    "tmp_arr:list[int] = [2, 4, 6]\n",
    "\n",
    "# Idea\n",
    "# func(array, i_first, i_second)\n",
    "\n",
    "def indexInRange(func):\n",
    "    def wrapper(*args, **kwargs):\n",
    "        if (len(args) == 3):\n",
    "            if (0 <= args[1] < len(args[0])) and (0 <= args[2] < len(args[0])):\n",
    "                func(*args, **kwargs)\n",
    "        elif (0 <= kwargs['i1'] < len(kwargs['array'])) and (0 <= kwargs['i2'] < len(kwargs['array'])):\n",
    "            func(*args, **kwargs)\n",
    "\n",
    "    return wrapper\n",
    "\n",
    "@indexInRange\n",
    "def XOR_LIST(array:list, i1:int, i2:int):\n",
    "    array[i1] ^= array[i2]\n",
    "    array[i2] ^= array[i1]\n",
    "    array[i1] ^= array[i2]\n",
    "\n",
    "XOR_LIST(tmp_arr, -1, 1)\n",
    "print(tmp_arr)"
   ]
  },
  {
   "cell_type": "code",
   "execution_count": 58,
   "metadata": {},
   "outputs": [],
   "source": [
    "def XOR_STR(x:str, y:str):\n",
    "    x ^= y; y ^= x; x ^= y\n",
    "    return Tupel(x, y)\n",
    "\n",
    "# print(XOR_STR('some', 'value'))\n",
    "# does not work need to do it with tmp"
   ]
  },
  {
   "cell_type": "code",
   "execution_count": 50,
   "metadata": {},
   "outputs": [
    {
     "name": "stdout",
     "output_type": "stream",
     "text": [
      "int\n",
      "True\n"
     ]
    }
   ],
   "source": [
    "var:int = 0\n",
    "match var:\n",
    "    case int():\n",
    "        print('int')\n",
    "    case list():\n",
    "        print('list')\n",
    "    case _:\n",
    "        print('None')\n",
    "\n",
    "def bool_as_pointer(var:bool):\n",
    "    var = True\n",
    "    return var\n",
    "\n",
    "var1:bool = False\n",
    "var1 = bool_as_pointer(var1)\n",
    "print(var1)"
   ]
  },
  {
   "cell_type": "code",
   "execution_count": 59,
   "metadata": {},
   "outputs": [],
   "source": [
    "def XOR(x:any = 0, y:any = 0, array:list[any] = [], i1:int = -1, i2:int = -1):\n",
    "    if (len(array) != 0):\n",
    "        @indexInRange\n",
    "        def XOR_LIST(array:list, i1:int, i2:int):\n",
    "            match array[i1]:\n",
    "                case int():\n",
    "                    array[i1] ^= array[i2]\n",
    "                    array[i2] ^= array[i1]\n",
    "                    array[i1] ^= array[i2]\n",
    "                case str():\n",
    "                    tmp:str = array[i1]; array[i1] = array[i2]; array[i2] = tmp\n",
    "        XOR_LIST(array, i1, i2)\n",
    "        return\n",
    "\n",
    "    match x:\n",
    "        case int():\n",
    "            if type(x) != type(y): return\n",
    "            x ^= y; y ^= x; x ^= y \n",
    "            return Tupel(x, y)\n",
    "        case float():\n",
    "            if type(x) != type(y): return\n",
    "            x ^= y; y ^= x; x ^= y \n",
    "            return Tupel(x, y)\n",
    "        case str():\n",
    "            if type(x) != type(y): return\n",
    "            return Tupel(y, x)\n",
    "            "
   ]
  },
  {
   "cell_type": "code",
   "execution_count": 60,
   "metadata": {},
   "outputs": [],
   "source": [
    "from typing import TypeAlias, Callable\n",
    "\n",
    "def outOfRange(func):\n",
    "    def wrapper(*args, **kwargs) -> list[any]:\n",
    "        if (len(args[0]) - 1) == args[1]: return args[2]\n",
    "        return func(*args, **kwargs)\n",
    "\n",
    "    return wrapper\n",
    "\n",
    "\n",
    "class sort:\n",
    "    def __init__(this, array:list[any], f:Callable[[any], int]):\n",
    "        this.array = array\n",
    "        this.func = f\n",
    "\n",
    "    def __str__(this):\n",
    "        print(this.array)\n",
    "\n",
    "    def setFunction(this, f) -> None:\n",
    "        this.func = f\n",
    "\n",
    "    def setArray(this, arr:list[any]) -> None:\n",
    "        this.array = arr\n",
    "\n",
    "    def sort(this) -> None:\n",
    "        @outOfRange\n",
    "        def sortArray(array:list[any], i:int, unsorted:bool) -> bool:\n",
    "            if this.func(this.array, i) > this.func(this.array, (i + 1)):\n",
    "                XOR(array=this.array, i1=i, i2=(i + 1)) \n",
    "                return True \n",
    "            return unsorted \n",
    "\n",
    "        unsorted:bool = True \n",
    "        while (unsorted):\n",
    "            unsorted = False\n",
    "            for i in range(0, len(this.array)):\n",
    "                unsorted = sortArray(this.array, i, unsorted)\n",
    "            "
   ]
  },
  {
   "cell_type": "code",
   "execution_count": 61,
   "metadata": {},
   "outputs": [
    {
     "name": "stdout",
     "output_type": "stream",
     "text": [
      "['sho', 'more', 'stuff', 'long long']\n"
     ]
    }
   ],
   "source": [
    "arr = sort(['stuff', 'more', 'sho', 'long long'], lambda arr, i: len(arr[i]))\n",
    "arr.sort()\n",
    "print(arr.array)"
   ]
  }
 ],
 "metadata": {
  "kernelspec": {
   "display_name": "Python 3",
   "language": "python",
   "name": "python3"
  },
  "language_info": {
   "codemirror_mode": {
    "name": "ipython",
    "version": 3
   },
   "file_extension": ".py",
   "mimetype": "text/x-python",
   "name": "python",
   "nbconvert_exporter": "python",
   "pygments_lexer": "ipython3",
   "version": "3.10.12"
  }
 },
 "nbformat": 4,
 "nbformat_minor": 2
}
